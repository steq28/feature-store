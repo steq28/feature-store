{
 "cells": [
  {
   "cell_type": "markdown",
   "metadata": {},
   "source": [
    "#### Library import"
   ]
  },
  {
   "cell_type": "code",
   "execution_count": null,
   "metadata": {},
   "outputs": [],
   "source": [
    "import uuid\n",
    "\n",
    "from functions import A_preprocessing as preprocessing\n",
    "from functions import B_create_feature_store as feature_store\n",
    "from functions import C_task1_model_train as create_model\n",
    "from functions import D_task2 as task2\n",
    "from functions import deploy_model as deploy"
   ]
  },
  {
   "cell_type": "markdown",
   "metadata": {},
   "source": [
    "## 1. Pre-processing"
   ]
  },
  {
   "cell_type": "code",
   "execution_count": null,
   "metadata": {},
   "outputs": [],
   "source": [
    "df = preprocessing.read_dataset(\"data/raw_dataset/full_data_flightdelay.csv\")"
   ]
  },
  {
   "cell_type": "code",
   "execution_count": null,
   "metadata": {},
   "outputs": [],
   "source": [
    "df.head()"
   ]
  },
  {
   "cell_type": "code",
   "execution_count": null,
   "metadata": {},
   "outputs": [],
   "source": [
    "preprocessing.remove_null_values(df)"
   ]
  },
  {
   "cell_type": "code",
   "execution_count": null,
   "metadata": {},
   "outputs": [],
   "source": [
    "#preprocessing.delayed_flights(df)"
   ]
  },
  {
   "cell_type": "code",
   "execution_count": null,
   "metadata": {},
   "outputs": [],
   "source": [
    "preprocessing.create_part_of_day_column(df)\n",
    "#preprocessing.show_heatmap_part_of_day(df)"
   ]
  },
  {
   "cell_type": "code",
   "execution_count": null,
   "metadata": {},
   "outputs": [],
   "source": [
    "#df.head()\n",
    "\n",
    "df['ID'] = [uuid.uuid4() for _ in range(len(df))]\n",
    "df['ID'] = df['ID'].astype(str)\n",
    "\n",
    "weather_columns = ['ID', 'PRCP', 'SNOW', 'SNWD', 'TMAX', 'AWND']\n",
    "weather_df = df[weather_columns]\n",
    "\n",
    "weather_feature_descriptions = [\n",
    "    {\"name\": \"id\", \"description\": \"flight id\"},\n",
    "    {\"name\": \"prcp\", \"description\": \"inches of precipitation for day\"},\n",
    "    {\"name\": \"snow\", \"description\": \"inches of snowfall for day\"},\n",
    "    {\"name\": \"snwd\", \"description\": \"inches of snow on ground for day\"},\n",
    "    {\"name\": \"tmax\", \"description\": \"max temperature for day\"},\n",
    "    {\"name\": \"awnd\", \"description\": \"max wind speed for day\"},\n",
    "]\n",
    "\n",
    "flight_airport_columns = ['ID', 'MONTH', 'DAY_OF_WEEK', 'DISTANCE_GROUP', 'PART_OF_DAY', 'SEGMENT_NUMBER', 'CONCURRENT_FLIGHTS', 'NUMBER_OF_SEATS', 'CARRIER_NAME', 'AIRPORT_FLIGHTS_MONTH', 'AIRLINE_FLIGHTS_MONTH', 'AIRLINE_AIRPORT_FLIGHTS_MONTH', 'AVG_MONTHLY_PASS_AIRPORT', 'AVG_MONTHLY_PASS_AIRLINE', 'FLT_ATTENDANTS_PER_PASS', 'GROUND_SERV_PER_PASS', 'PLANE_AGE', 'DEPARTING_AIRPORT', 'LATITUDE', 'LONGITUDE', 'PREVIOUS_AIRPORT']\n",
    "flight_airport_df = df[flight_airport_columns]\n",
    "\n",
    "flight_airport_feature_descriptions = [\n",
    "    {\"name\": \"id\", \"description\": \"flight id\"},\n",
    "    {\"name\": \"month\", \"description\": \"month\"},\n",
    "    {\"name\": \"day_of_week\", \"description\": \"day of week\"},\n",
    "    {\"name\": \"distance_group\", \"description\": \"distance group to be flown by departing aircraft\"},\n",
    "    {\"name\": \"part_of_day\", \"description\": \"part of the day that the flight is scheduled for departure\"},\n",
    "    {\"name\": \"segment_number\", \"description\": \"the segment that this tail number is on for the day\"},\n",
    "    {\"name\": \"concurrent_flights\", \"description\": \"concurrent flights leaving from the airport in the same departure block\"},\n",
    "    {\"name\": \"number_of_seats\", \"description\": \"number of seats on the aircraft\"},\n",
    "    {\"name\": \"carrier_name\", \"description\": \"carrier\"},\n",
    "    {\"name\": \"airport_flights_month\", \"description\": \"avg airport flights per month\"},\n",
    "    {\"name\": \"airline_flights_month\", \"description\": \"avg airline flights per month\"},\n",
    "    {\"name\": \"airline_airport_flights_month\", \"description\": \"avg flights per month for airline and airport\"},\n",
    "    {\"name\": \"avg_monthly_pass_airport\", \"description\": \"avg passengers for the departing airport for the month\"},\n",
    "    {\"name\": \"avg_monthly_pass_airline\", \"description\": \"avg passengers for airline for month\"},\n",
    "    {\"name\": \"flt_attendants_per_pass\", \"description\": \"flight attendants per passenger for airline\"},\n",
    "    {\"name\": \"ground_serv_per_pass\", \"description\": \"ground service employees (service desk) per passenger for airline\"},\n",
    "    {\"name\": \"plane_age\", \"description\": \"age of departing aircraft\"},\n",
    "    {\"name\": \"departing_airport\", \"description\": \"departing airport\"},\n",
    "    {\"name\": \"latitude\", \"description\": \"latitude of departing airport\"},\n",
    "    {\"name\": \"longitude\", \"description\": \"longitude of departing airport\"},\n",
    "    {\"name\": \"previous_airport\", \"description\": \"previous airport that aircraft departed from\"},\n",
    "]\n",
    "\n",
    "target_column = ['ID', 'DEP_DEL15']\n",
    "target_df = df[target_column]\n",
    "\n",
    "target_feature_descriptions = [\n",
    "    {\"name\": \"id\", \"description\": \"flight id\"},\n",
    "    {\"name\": \"dep_del15\", \"description\": \"binary of a departure delay over 15 minutes (1 is yes)\"},\n",
    "]"
   ]
  },
  {
   "cell_type": "markdown",
   "metadata": {},
   "source": [
    "## 2. Hopsworks connection"
   ]
  },
  {
   "cell_type": "code",
   "execution_count": null,
   "metadata": {},
   "outputs": [],
   "source": [
    "project, fs = feature_store.connect_to_hopsworks()"
   ]
  },
  {
   "cell_type": "code",
   "execution_count": null,
   "metadata": {},
   "outputs": [],
   "source": [
    "# feature_store.create_feature_group(\"flight_airport\", 1, \"Flight and Airport Information\", [\"id\"], True, fs, flight_airport_df, flight_airport_feature_descriptions)\n",
    "# feature_store.create_feature_group(\"weather\", 1, \"Weather Information\", [\"id\"], True, fs, weather_df, weather_feature_descriptions)\n",
    "# feature_store.create_feature_group(\"target\", 1, \"Target Information\", [\"id\"], True, fs, target_df, target_feature_descriptions)"
   ]
  },
  {
   "cell_type": "markdown",
   "metadata": {},
   "source": [
    "## 3. Task 1"
   ]
  },
  {
   "cell_type": "code",
   "execution_count": null,
   "metadata": {},
   "outputs": [],
   "source": [
    "\n",
    "# # Neural Network model\n",
    "# X_train, X_test, y_train, y_test = preprocessing.prepare_data_for_ML_model(df, True)\n",
    "\n",
    "# nn_model = create_model.define_NN_model(X_train)\n",
    "# history = create_model.train_NN_model(nn_model, X_train, X_test, y_train, y_test)\n",
    "# create_model.show_NN_performance(history)\n",
    "\n",
    "# MLPClassifier model\n",
    "df.drop(['ID'], axis=1, inplace=True)\n",
    "X_train, X_test, y_train, y_test = preprocessing.prepare_data_for_ML_model(df)\n",
    "mlp_model = create_model.define_MLP_classifier()\n",
    "train_losses, test_losses, train_accuracies, test_accuracies = create_model.train_MLP_classifier(mlp_model, X_train, X_test, y_train, y_test)\n",
    "create_model.show_MLP_performance(train_losses, test_losses, train_accuracies, test_accuracies)\n"
   ]
  },
  {
   "cell_type": "code",
   "execution_count": null,
   "metadata": {},
   "outputs": [],
   "source": [
    "create_model.save_model(mlp_model, \"modello\")"
   ]
  },
  {
   "cell_type": "markdown",
   "metadata": {},
   "source": [
    "Deploy the model"
   ]
  },
  {
   "cell_type": "code",
   "execution_count": null,
   "metadata": {},
   "outputs": [],
   "source": [
    "deploy.deploy_model(project)"
   ]
  },
  {
   "cell_type": "markdown",
   "metadata": {},
   "source": [
    "# Task 2"
   ]
  },
  {
   "cell_type": "code",
   "execution_count": null,
   "metadata": {},
   "outputs": [],
   "source": [
    "# df = preprocessing.read_dataset(\"data/raw_dataset/train_val.csv\")\n",
    "# df.drop(columns=['MONTH', 'DAY_OF_WEEK'], inplace=True)\n",
    "df = task2.getDataset(fs)\n",
    "preprocessing.create_part_of_day_column(df)\n",
    "\n",
    "X_train, X_test, y_train, y_test = preprocessing.prepare_data_for_ML_model(df, predCol=\"PRCP\", labelToClean=['DEPARTING_AIRPORT', 'PREVIOUS_AIRPORT', \"PART_OF_DAY\"])\n",
    "task2.svm(X_train, X_test, y_train, y_test)"
   ]
  }
 ],
 "metadata": {
  "kernelspec": {
   "display_name": "base",
   "language": "python",
   "name": "python3"
  },
  "language_info": {
   "codemirror_mode": {
    "name": "ipython",
    "version": 3
   },
   "file_extension": ".py",
   "mimetype": "text/x-python",
   "name": "python",
   "nbconvert_exporter": "python",
   "pygments_lexer": "ipython3",
   "version": "3.9.1"
  }
 },
 "nbformat": 4,
 "nbformat_minor": 2
}
