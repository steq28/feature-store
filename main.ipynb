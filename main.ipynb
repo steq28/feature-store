{
 "cells": [
  {
   "cell_type": "markdown",
   "metadata": {},
   "source": [
    "#### Library import"
   ]
  },
  {
   "cell_type": "code",
   "execution_count": null,
   "metadata": {},
   "outputs": [],
   "source": [
    "from functions import A_preprocessing as preprocessing\n",
    "from functions import B_create_feature_store as feature_store\n",
    "from functions import C_task1_model_train as create_model"
   ]
  },
  {
   "cell_type": "markdown",
   "metadata": {},
   "source": [
    "## 1. Pre-processing"
   ]
  },
  {
   "cell_type": "code",
   "execution_count": null,
   "metadata": {},
   "outputs": [],
   "source": [
    "df = preprocessing.read_dataset(\"data/raw_dataset/full_data_flightdelay.csv\")"
   ]
  },
  {
   "cell_type": "code",
   "execution_count": null,
   "metadata": {},
   "outputs": [],
   "source": [
    "#df.head()"
   ]
  },
  {
   "cell_type": "code",
   "execution_count": null,
   "metadata": {},
   "outputs": [],
   "source": [
    "preprocessing.remove_null_values(df)"
   ]
  },
  {
   "cell_type": "code",
   "execution_count": null,
   "metadata": {},
   "outputs": [],
   "source": [
    "#preprocessing.delayed_flights(df)"
   ]
  },
  {
   "cell_type": "code",
   "execution_count": null,
   "metadata": {},
   "outputs": [],
   "source": [
    "preprocessing.create_part_of_day_column(df)\n",
    "#preprocessing.show_heatmap_part_of_day(df)"
   ]
  },
  {
   "cell_type": "code",
   "execution_count": null,
   "metadata": {},
   "outputs": [],
   "source": [
    "#df.head()"
   ]
  },
  {
   "cell_type": "markdown",
   "metadata": {},
   "source": [
    "## 2. Hopsworks connection"
   ]
  },
  {
   "cell_type": "code",
   "execution_count": null,
   "metadata": {},
   "outputs": [],
   "source": [
    "#import pandas as pd\n",
    "\n",
    "\n",
    "#fs = feature_store.connect_to_hopsworks()"
   ]
  },
  {
   "cell_type": "markdown",
   "metadata": {},
   "source": [
    "## 3. Task 1"
   ]
  },
  {
   "cell_type": "code",
   "execution_count": null,
   "metadata": {},
   "outputs": [],
   "source": [
    "\n",
    "# # Neural Network model\n",
    "# X_train, X_test, y_train, y_test = preprocessing.prepare_data_for_ML_model(df, True)\n",
    "\n",
    "# nn_model = create_model.define_NN_model(X_train)\n",
    "# history = create_model.train_NN_model(nn_model, X_train, X_test, y_train, y_test)\n",
    "# create_model.show_NN_performance(history)\n",
    "\n",
    "# MLPClassifier model\n",
    "X_train, X_test, y_train, y_test = preprocessing.prepare_data_for_ML_model(df)\n",
    "mlp_mode = create_model.define_MLP_classifier()\n",
    "train_losses, test_losses, train_accuracies, test_accuracies = create_model.train_MLP_classifier(mlp_mode, X_train, X_test, y_train, y_test)\n",
    "create_model.show_MLP_performance(train_losses, test_losses, train_accuracies, test_accuracies)\n"
   ]
  },
  {
   "cell_type": "code",
   "execution_count": null,
   "metadata": {},
   "outputs": [],
   "source": [
    "create_model.save_model(mlp_mode, \"modello\")\n"
   ]
  }
 ],
 "metadata": {
  "kernelspec": {
   "display_name": "base",
   "language": "python",
   "name": "python3"
  },
  "language_info": {
   "codemirror_mode": {
    "name": "ipython",
    "version": 3
   },
   "file_extension": ".py",
   "mimetype": "text/x-python",
   "name": "python",
   "nbconvert_exporter": "python",
   "pygments_lexer": "ipython3",
   "version": "3.11.5"
  }
 },
 "nbformat": 4,
 "nbformat_minor": 2
}
