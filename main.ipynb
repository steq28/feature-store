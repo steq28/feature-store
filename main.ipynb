{
 "cells": [
  {
   "cell_type": "markdown",
   "metadata": {},
   "source": [
    "#### Library import"
   ]
  },
  {
   "cell_type": "code",
   "execution_count": null,
   "metadata": {},
   "outputs": [],
   "source": [
    "import uuid\n",
    "from functions import A_preprocessing as preprocessing\n",
    "from functions import B_create_feature_store as feature_store\n",
    "from functions import C_task1_model_train as create_model\n",
    "from functions import D_task2 as task2\n",
    "from functions import deploy_model as deploy"
   ]
  },
  {
   "cell_type": "markdown",
   "metadata": {},
   "source": [
    "## 1. Pre-processing"
   ]
  },
  {
   "cell_type": "code",
   "execution_count": null,
   "metadata": {},
   "outputs": [],
   "source": [
    "df = preprocessing.read_dataset(\"data/raw_dataset/datasetWithMoreData.csv\")"
   ]
  },
  {
   "cell_type": "code",
   "execution_count": null,
   "metadata": {},
   "outputs": [],
   "source": [
    "df.head()"
   ]
  },
  {
   "cell_type": "code",
   "execution_count": null,
   "metadata": {},
   "outputs": [],
   "source": [
    "preprocessing.remove_null_values(df)"
   ]
  },
  {
   "cell_type": "code",
   "execution_count": null,
   "metadata": {},
   "outputs": [],
   "source": [
    "preprocessing.delayed_flights(df)"
   ]
  },
  {
   "cell_type": "code",
   "execution_count": null,
   "metadata": {},
   "outputs": [],
   "source": [
    "preprocessing.create_part_of_day_column(df)\n",
    "preprocessing.show_heatmap_part_of_day(df)"
   ]
  },
  {
   "cell_type": "code",
   "execution_count": null,
   "metadata": {},
   "outputs": [],
   "source": [
    "#df.head()\n",
    "\n",
    "df['ID'] = [uuid.uuid4() for _ in range(len(df))]\n",
    "df['ID'] = df['ID'].astype(str)\n",
    "\n",
    "weather_columns = ['ID', 'PRCP', 'SNOW', 'SNWD', 'TMAX', 'AWND']\n",
    "weather_df = df[weather_columns]\n",
    "\n",
    "weather_feature_descriptions = [\n",
    "    {\"name\": \"id\", \"description\": \"flight id\"},\n",
    "    {\"name\": \"prcp\", \"description\": \"inches of precipitation for day\"},\n",
    "    {\"name\": \"snow\", \"description\": \"inches of snowfall for day\"},\n",
    "    {\"name\": \"snwd\", \"description\": \"inches of snow on ground for day\"},\n",
    "    {\"name\": \"tmax\", \"description\": \"max temperature for day\"},\n",
    "    {\"name\": \"awnd\", \"description\": \"max wind speed for day\"},\n",
    "]\n",
    "\n",
    "flight_airport_columns = ['ID', 'MONTH', 'DAY_OF_WEEK', 'DISTANCE_GROUP', 'PART_OF_DAY', 'SEGMENT_NUMBER', 'CONCURRENT_FLIGHTS', 'NUMBER_OF_SEATS', 'CARRIER_NAME', 'AIRPORT_FLIGHTS_MONTH', 'AIRLINE_FLIGHTS_MONTH', 'AIRLINE_AIRPORT_FLIGHTS_MONTH', 'AVG_MONTHLY_PASS_AIRPORT', 'AVG_MONTHLY_PASS_AIRLINE', 'FLT_ATTENDANTS_PER_PASS', 'GROUND_SERV_PER_PASS', 'PLANE_AGE', 'DEPARTING_AIRPORT', 'LATITUDE', 'LONGITUDE', 'PREVIOUS_AIRPORT']\n",
    "flight_airport_df = df[flight_airport_columns]\n",
    "\n",
    "flight_airport_feature_descriptions = [\n",
    "    {\"name\": \"id\", \"description\": \"flight id\"},\n",
    "    {\"name\": \"month\", \"description\": \"month\"},\n",
    "    {\"name\": \"day_of_week\", \"description\": \"day of week\"},\n",
    "    {\"name\": \"distance_group\", \"description\": \"distance group to be flown by departing aircraft\"},\n",
    "    {\"name\": \"part_of_day\", \"description\": \"part of the day that the flight is scheduled for departure\"},\n",
    "    {\"name\": \"segment_number\", \"description\": \"the segment that this tail number is on for the day\"},\n",
    "    {\"name\": \"concurrent_flights\", \"description\": \"concurrent flights leaving from the airport in the same departure block\"},\n",
    "    {\"name\": \"number_of_seats\", \"description\": \"number of seats on the aircraft\"},\n",
    "    {\"name\": \"carrier_name\", \"description\": \"carrier\"},\n",
    "    {\"name\": \"airport_flights_month\", \"description\": \"avg airport flights per month\"},\n",
    "    {\"name\": \"airline_flights_month\", \"description\": \"avg airline flights per month\"},\n",
    "    {\"name\": \"airline_airport_flights_month\", \"description\": \"avg flights per month for airline and airport\"},\n",
    "    {\"name\": \"avg_monthly_pass_airport\", \"description\": \"avg passengers for the departing airport for the month\"},\n",
    "    {\"name\": \"avg_monthly_pass_airline\", \"description\": \"avg passengers for airline for month\"},\n",
    "    {\"name\": \"flt_attendants_per_pass\", \"description\": \"flight attendants per passenger for airline\"},\n",
    "    {\"name\": \"ground_serv_per_pass\", \"description\": \"ground service employees (service desk) per passenger for airline\"},\n",
    "    {\"name\": \"plane_age\", \"description\": \"age of departing aircraft\"},\n",
    "    {\"name\": \"departing_airport\", \"description\": \"departing airport\"},\n",
    "    {\"name\": \"latitude\", \"description\": \"latitude of departing airport\"},\n",
    "    {\"name\": \"longitude\", \"description\": \"longitude of departing airport\"},\n",
    "    {\"name\": \"previous_airport\", \"description\": \"previous airport that aircraft departed from\"},\n",
    "]\n",
    "\n",
    "target_column = ['ID', 'DEP_DEL15']\n",
    "target_df = df[target_column]\n",
    "\n",
    "target_feature_descriptions = [\n",
    "    {\"name\": \"id\", \"description\": \"flight id\"},\n",
    "    {\"name\": \"dep_del15\", \"description\": \"binary of a departure delay over 15 minutes (1 is yes)\"},\n",
    "]"
   ]
  },
  {
   "cell_type": "markdown",
   "metadata": {},
   "source": [
    "## 2. Hopsworks connection"
   ]
  },
  {
   "cell_type": "code",
   "execution_count": null,
   "metadata": {},
   "outputs": [],
   "source": [
    "project, fs = feature_store.connect_to_hopsworks()"
   ]
  },
  {
   "cell_type": "markdown",
   "metadata": {},
   "source": [
    "If feature groups have not already been created, uncomment this part of the code"
   ]
  },
  {
   "cell_type": "code",
   "execution_count": null,
   "metadata": {},
   "outputs": [],
   "source": [
    "# flight_airport_fg = feature_store.create_feature_group(\"flight_airport\", 1, \"Flight and Airport Information\", [\"id\"], True, fs, flight_airport_df, flight_airport_feature_descriptions)\n",
    "# weather_fg = feature_store.create_feature_group(\"weather\", 1, \"Weather Information\", [\"id\"], True, fs, weather_df, weather_feature_descriptions)\n",
    "# target_fg = feature_store.create_feature_group(\"target\", 1, \"Target Information\", [\"id\"], True, fs, target_df, target_feature_descriptions)"
   ]
  },
  {
   "cell_type": "code",
   "execution_count": null,
   "metadata": {},
   "outputs": [],
   "source": [
    "flight_airport_fg = fs.get_feature_group(\n",
    "    name='flight_airport',\n",
    "    version=1,\n",
    ")\n",
    "\n",
    "weather_fg = fs.get_feature_group(\n",
    "    name='weather', \n",
    "    version=1,\n",
    ")\n",
    "\n",
    "target_fg = fs.get_feature_group(\n",
    "    name='target',\n",
    "    version=1,\n",
    ")\n",
    "    "
   ]
  },
  {
   "cell_type": "code",
   "execution_count": null,
   "metadata": {},
   "outputs": [],
   "source": [
    "selected_features = flight_airport_fg.select_all().join(weather_fg.select_all()).join(target_fg.select_all())"
   ]
  },
  {
   "cell_type": "code",
   "execution_count": null,
   "metadata": {},
   "outputs": [],
   "source": [
    "# Get or create the 'flight_delay_online_fv' feature view\n",
    "flights_feature_view = fs.get_or_create_feature_view(\n",
    "    name='flight_delay_online_fv',\n",
    "    version=1,\n",
    "    query=selected_features,\n",
    "    labels=[\"dep_del15\"]\n",
    ")\n",
    "\n",
    "weatherFeatures = flight_airport_fg.select([\"id\", \"part_of_day\", \"departing_airport\", \"previous_airport\"]).join(weather_fg.select_all()).join(target_fg.select_all())\n",
    "\n",
    "# Get or create the 'weather_prcp_predi' feature view\n",
    "weather_feature_view = fs.get_or_create_feature_view(\n",
    "    name='weather_prcp_fv',\n",
    "    version=1,\n",
    "    query=weatherFeatures,\n",
    "    labels=[\"prcp\"]\n",
    ")"
   ]
  },
  {
   "cell_type": "markdown",
   "metadata": {},
   "source": [
    "## 3. Task 1"
   ]
  },
  {
   "cell_type": "code",
   "execution_count": null,
   "metadata": {},
   "outputs": [],
   "source": [
    "# df.drop(['ID'], axis=1, inplace=True)\n",
    "\n",
    "# # # Neural Network model\n",
    "# nn_df = df.copy()\n",
    "# X_train_NN, X_test_NN, y_train_NN, y_test_NN = preprocessing.prepare_data_for_ML_model(nn_df, True)\n",
    "\n",
    "# nn_model = create_model.define_NN_model(X_train_NN)\n",
    "# history = create_model.train_NN_model(nn_model, X_train_NN, X_test_NN, y_train_NN, y_test_NN)\n",
    "# create_model.show_NN_performance(history)\n",
    "\n",
    "# # MLPClassifier model\n",
    "\n",
    "# X_train, X_test, y_train, y_test = preprocessing.prepare_data_for_ML_model(df)\n",
    "# mlp_model = create_model.define_MLP_classifier()\n",
    "# train_losses, test_losses, train_accuracies, test_accuracies = create_model.train_MLP_classifier(mlp_model, X_train, X_test, y_train, y_test)\n",
    "# create_model.show_MLP_performance(train_losses, test_losses, train_accuracies, test_accuracies)\n"
   ]
  },
  {
   "cell_type": "code",
   "execution_count": null,
   "metadata": {},
   "outputs": [],
   "source": [
    "# create_model.save_model(nn_model, \"nn_model\")\n",
    "# create_model.save_model(mlp_model, \"mlp_model\")"
   ]
  },
  {
   "cell_type": "code",
   "execution_count": null,
   "metadata": {},
   "outputs": [],
   "source": [
    "# from hsml.schema import Schema\n",
    "# from hsml.model_schema import ModelSchema\n",
    "\n",
    "# def deploy_model(project, description, X_train, y_train, version, model_name, accuracy):\n",
    "#     mr = project.get_model_registry()\n",
    "\n",
    "#     # Create input schema using X_train\n",
    "#     input_schema = Schema(X_train)\n",
    "\n",
    "#     # Create output schema using y_train\n",
    "#     output_schema = Schema(y_train)\n",
    "\n",
    "#     # Create a ModelSchema object specifying the input and output schemas\n",
    "#     model_schema = ModelSchema(\n",
    "#         input_schema=input_schema, \n",
    "#         output_schema=output_schema,\n",
    "#     )\n",
    "\n",
    "#     # Convert the model schema to a dictionary\n",
    "#     model_schema.to_dict()\n",
    "    \n",
    "\n",
    "#     tf_model  = mr.python.create_model(\n",
    "#         name=f\"flight_delay_{model_name}\",\n",
    "#         version = version,\n",
    "#         metrics={\"accuracy\": accuracy},\n",
    "#         description=description,\n",
    "#         model_schema=model_schema\n",
    "#     )\n",
    "\n",
    "#     tf_model.save(f'./data/model/{model_name}.pkl')\n",
    "\n",
    "#     return tf_model"
   ]
  },
  {
   "cell_type": "markdown",
   "metadata": {},
   "source": [
    "Deploy the model"
   ]
  },
  {
   "cell_type": "code",
   "execution_count": null,
   "metadata": {},
   "outputs": [],
   "source": [
    "# nn_model = deploy.save_model_on_hopsworks(project, \"Neural Network model for predicting flight delays\",  X_train_NN, y_train_NN, 1, \"nn_model\", history.history['accuracy'][-1])\n",
    "# mlp_model = deploy.save_model_on_hopsworks(project, \"MLPClassifier model for predicting flight delays\", X_train, y_train, 1, \"mlp_model\", train_accuracies[-1])"
   ]
  },
  {
   "cell_type": "code",
   "execution_count": null,
   "metadata": {},
   "outputs": [],
   "source": [
    "# deploy.deploy_model(project, \"nnmodel\", nn_model)\n",
    "# deploy.deploy_model(project, \"mlpmodel\", mlp_model)"
   ]
  },
  {
   "cell_type": "markdown",
   "metadata": {},
   "source": [
    "# Task 2"
   ]
  },
  {
   "cell_type": "markdown",
   "metadata": {},
   "source": [
    "If train data have not already been created, uncomment this part of the code"
   ]
  },
  {
   "cell_type": "code",
   "execution_count": null,
   "metadata": {},
   "outputs": [],
   "source": [
    "# version, job = weather_feature_view.create_train_test_split(\n",
    "#     test_size=0.2,\n",
    "#     description='Description of a dataset',\n",
    "#     data_format='csv'\n",
    "# )"
   ]
  },
  {
   "cell_type": "code",
   "execution_count": null,
   "metadata": {},
   "outputs": [],
   "source": [
    "X_train, X_test, y_train, y_test = weather_feature_view.get_train_test_split(training_dataset_version=1)\n",
    "\n",
    "# preprocessing.clean_labels_encoder(X_train, ['departing_airport', 'previous_airport', \"part_of_day\"])\n",
    "# preprocessing.clean_labels_encoder(X_test, ['departing_airport', 'previous_airport', \"part_of_day\"])\n",
    "# print(X_train.head())\n",
    "# preprocessing.scale_data(X_train)\n",
    "# preprocessing.scale_data(X_test)\n",
    "\n",
    "# task2.svm(X_train, X_test, y_train, y_test)"
   ]
  }
 ],
 "metadata": {
  "kernelspec": {
   "display_name": "base",
   "language": "python",
   "name": "python3"
  },
  "language_info": {
   "codemirror_mode": {
    "name": "ipython",
    "version": 3
   },
   "file_extension": ".py",
   "mimetype": "text/x-python",
   "name": "python",
   "nbconvert_exporter": "python",
   "pygments_lexer": "ipython3",
   "version": "3.11.5"
  }
 },
 "nbformat": 4,
 "nbformat_minor": 2
}
